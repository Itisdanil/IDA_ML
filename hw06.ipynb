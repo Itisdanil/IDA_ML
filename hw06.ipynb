{
 "cells": [
  {
   "cell_type": "markdown",
   "metadata": {},
   "source": [
    "# Комаров Данил ИАД-2"
   ]
  },
  {
   "cell_type": "markdown",
   "metadata": {},
   "source": [
    "# Домашнее задание 6: классификация текстов"
   ]
  },
  {
   "cell_type": "markdown",
   "metadata": {},
   "source": [
    "В этом домашнем задании вам предстоит построить классификатор текстов!\n",
    "\n",
    "Данные мы будем использовать из Kaggle соревнования: https://www.kaggle.com/competitions/nlp-getting-started/data Оттуда надо скачать файл train.csv. На обучающую и тестовую выборки его поделим кодом ниже, менять его не надо!"
   ]
  },
  {
   "cell_type": "markdown",
   "metadata": {},
   "source": [
    "Мы будем работать с датасетом постов из твиттера. Нам предстоит решать задачу бинарной классификации - определять содержатся ли в твитте информация о настоящей катастрофе/инциденте или нет."
   ]
  },
  {
   "cell_type": "code",
   "execution_count": 1,
   "metadata": {},
   "outputs": [],
   "source": [
    "import pandas as pd\n",
    "import numpy as np\n",
    "from sklearn.model_selection import train_test_split\n",
    "from sklearn.feature_extraction.text import CountVectorizer, TfidfVectorizer, HashingVectorizer\n",
    "from sklearn.linear_model import LogisticRegression, SGDClassifier\n",
    "from sklearn.ensemble import RandomForestClassifier, GradientBoostingClassifier\n",
    "from sklearn import svm\n",
    "from sklearn.metrics import f1_score\n",
    "from sklearn.model_selection import GridSearchCV\n",
    "import matplotlib.pyplot as plt\n",
    "import seaborn as sns\n",
    "import string\n",
    "import re\n",
    "from nltk.tokenize import TweetTokenizer\n",
    "from nltk.corpus import stopwords\n",
    "from nltk.stem.snowball import SnowballStemmer\n",
    "import warnings\n",
    "warnings.filterwarnings(\"ignore\")"
   ]
  },
  {
   "cell_type": "code",
   "execution_count": 2,
   "metadata": {},
   "outputs": [],
   "source": [
    "data = pd.read_csv('train.csv')"
   ]
  },
  {
   "cell_type": "code",
   "execution_count": 3,
   "metadata": {},
   "outputs": [
    {
     "data": {
      "text/html": [
       "<div>\n",
       "<style scoped>\n",
       "    .dataframe tbody tr th:only-of-type {\n",
       "        vertical-align: middle;\n",
       "    }\n",
       "\n",
       "    .dataframe tbody tr th {\n",
       "        vertical-align: top;\n",
       "    }\n",
       "\n",
       "    .dataframe thead th {\n",
       "        text-align: right;\n",
       "    }\n",
       "</style>\n",
       "<table border=\"1\" class=\"dataframe\">\n",
       "  <thead>\n",
       "    <tr style=\"text-align: right;\">\n",
       "      <th></th>\n",
       "      <th>id</th>\n",
       "      <th>keyword</th>\n",
       "      <th>location</th>\n",
       "      <th>text</th>\n",
       "      <th>target</th>\n",
       "    </tr>\n",
       "  </thead>\n",
       "  <tbody>\n",
       "    <tr>\n",
       "      <th>0</th>\n",
       "      <td>1</td>\n",
       "      <td>NaN</td>\n",
       "      <td>NaN</td>\n",
       "      <td>Our Deeds are the Reason of this #earthquake M...</td>\n",
       "      <td>1</td>\n",
       "    </tr>\n",
       "    <tr>\n",
       "      <th>1</th>\n",
       "      <td>4</td>\n",
       "      <td>NaN</td>\n",
       "      <td>NaN</td>\n",
       "      <td>Forest fire near La Ronge Sask. Canada</td>\n",
       "      <td>1</td>\n",
       "    </tr>\n",
       "    <tr>\n",
       "      <th>2</th>\n",
       "      <td>5</td>\n",
       "      <td>NaN</td>\n",
       "      <td>NaN</td>\n",
       "      <td>All residents asked to 'shelter in place' are ...</td>\n",
       "      <td>1</td>\n",
       "    </tr>\n",
       "    <tr>\n",
       "      <th>3</th>\n",
       "      <td>6</td>\n",
       "      <td>NaN</td>\n",
       "      <td>NaN</td>\n",
       "      <td>13,000 people receive #wildfires evacuation or...</td>\n",
       "      <td>1</td>\n",
       "    </tr>\n",
       "    <tr>\n",
       "      <th>4</th>\n",
       "      <td>7</td>\n",
       "      <td>NaN</td>\n",
       "      <td>NaN</td>\n",
       "      <td>Just got sent this photo from Ruby #Alaska as ...</td>\n",
       "      <td>1</td>\n",
       "    </tr>\n",
       "  </tbody>\n",
       "</table>\n",
       "</div>"
      ],
      "text/plain": [
       "   id keyword location                                               text  \\\n",
       "0   1     NaN      NaN  Our Deeds are the Reason of this #earthquake M...   \n",
       "1   4     NaN      NaN             Forest fire near La Ronge Sask. Canada   \n",
       "2   5     NaN      NaN  All residents asked to 'shelter in place' are ...   \n",
       "3   6     NaN      NaN  13,000 people receive #wildfires evacuation or...   \n",
       "4   7     NaN      NaN  Just got sent this photo from Ruby #Alaska as ...   \n",
       "\n",
       "   target  \n",
       "0       1  \n",
       "1       1  \n",
       "2       1  \n",
       "3       1  \n",
       "4       1  "
      ]
     },
     "execution_count": 3,
     "metadata": {},
     "output_type": "execute_result"
    }
   ],
   "source": [
    "data.head()"
   ]
  },
  {
   "cell_type": "code",
   "execution_count": 4,
   "metadata": {},
   "outputs": [],
   "source": [
    "train, test = train_test_split(data, test_size=0.3, random_state=42)"
   ]
  },
  {
   "cell_type": "markdown",
   "metadata": {},
   "source": [
    "## Задание 1 (0.5 балла)\n",
    "\n",
    "Выведете на экран информацию о пропусках в данных. Если пропуски присутствуют заполните их пустой строкой."
   ]
  },
  {
   "cell_type": "code",
   "execution_count": 5,
   "metadata": {},
   "outputs": [
    {
     "name": "stdout",
     "output_type": "stream",
     "text": [
      "<class 'pandas.core.frame.DataFrame'>\n",
      "Int64Index: 5329 entries, 1186 to 7270\n",
      "Data columns (total 5 columns):\n",
      " #   Column    Non-Null Count  Dtype \n",
      "---  ------    --------------  ----- \n",
      " 0   id        5329 non-null   int64 \n",
      " 1   keyword   5285 non-null   object\n",
      " 2   location  3569 non-null   object\n",
      " 3   text      5329 non-null   object\n",
      " 4   target    5329 non-null   int64 \n",
      "dtypes: int64(2), object(3)\n",
      "memory usage: 249.8+ KB\n"
     ]
    }
   ],
   "source": [
    "train.info() # пропуски в обучающей выборке есть"
   ]
  },
  {
   "cell_type": "code",
   "execution_count": 6,
   "metadata": {},
   "outputs": [
    {
     "name": "stdout",
     "output_type": "stream",
     "text": [
      "<class 'pandas.core.frame.DataFrame'>\n",
      "Int64Index: 2284 entries, 2644 to 6753\n",
      "Data columns (total 5 columns):\n",
      " #   Column    Non-Null Count  Dtype \n",
      "---  ------    --------------  ----- \n",
      " 0   id        2284 non-null   int64 \n",
      " 1   keyword   2267 non-null   object\n",
      " 2   location  1511 non-null   object\n",
      " 3   text      2284 non-null   object\n",
      " 4   target    2284 non-null   int64 \n",
      "dtypes: int64(2), object(3)\n",
      "memory usage: 107.1+ KB\n"
     ]
    }
   ],
   "source": [
    "test.info() # пропуски в тестовой выборке есть"
   ]
  },
  {
   "cell_type": "code",
   "execution_count": 7,
   "metadata": {},
   "outputs": [],
   "source": [
    "train['keyword'] = train['keyword'].fillna('')\n",
    "train['location'] = train['location'].fillna('')\n",
    "\n",
    "test['keyword'] = test['keyword'].fillna('')\n",
    "test['location'] = test['location'].fillna('')"
   ]
  },
  {
   "cell_type": "code",
   "execution_count": 8,
   "metadata": {},
   "outputs": [
    {
     "data": {
      "text/plain": [
       "False"
      ]
     },
     "execution_count": 8,
     "metadata": {},
     "output_type": "execute_result"
    }
   ],
   "source": [
    "train.isnull().any().any() # пропусков в обучающей выборке не осталось"
   ]
  },
  {
   "cell_type": "code",
   "execution_count": 9,
   "metadata": {},
   "outputs": [
    {
     "data": {
      "text/plain": [
       "False"
      ]
     },
     "execution_count": 9,
     "metadata": {},
     "output_type": "execute_result"
    }
   ],
   "source": [
    "test.isnull().any().any() # пропусков в тестовой выборке не осталось"
   ]
  },
  {
   "cell_type": "markdown",
   "metadata": {},
   "source": [
    "## Задание 2 (1 балл)\n",
    "Давайте немного посмотрим на наши данные. Визуализируйте (где явно просят) или выведете информацию о следующем:\n",
    "\n",
    "1. Какое распределение классов в обучающей выборке?\n",
    "2. Посмотрите на колонку \"keyword\" - возьмите 10 наиболее встречающихся значений, постройте ступенчатую диаграмму распределения классов в зависимости от значения keyword, сделайте выводы."
   ]
  },
  {
   "cell_type": "code",
   "execution_count": 10,
   "metadata": {},
   "outputs": [
    {
     "name": "stdout",
     "output_type": "stream",
     "text": [
      "0 класс: 56.7461%\n",
      "1 класс: 43.2539%\n"
     ]
    }
   ],
   "source": [
    "# Вопрос 1.\n",
    "# в целом классы достаточно сбалансированы, сильного дисбаланса нет\n",
    "print(f'0 класс: {100*round(train[train[\"target\"] == 0].shape[0] / train.shape[0], 6)}%\\n1 класс: {100*round(train[train[\"target\"] == 1].shape[0] / train.shape[0], 6)}%')"
   ]
  },
  {
   "cell_type": "code",
   "execution_count": 11,
   "metadata": {},
   "outputs": [
    {
     "data": {
      "image/png": "[encoded data removed]",
      "text/plain": [
       "<Figure size 1008x432 with 1 Axes>"
      ]
     },
     "metadata": {
      "needs_background": "light"
     },
     "output_type": "display_data"
    }
   ],
   "source": [
    "# Вопрос 2.\n",
    "top_keywords = data[data['keyword'].isin(data['keyword'].value_counts()[:10].index.tolist())]\n",
    "top_groupby = top_keywords.groupby(['keyword', 'target'], as_index=False).agg('count')\n",
    "\n",
    "fig, ax = plt.subplots(figsize=(14, 6))\n",
    "\n",
    "ax.bar(np.unique(top_groupby['keyword']), top_groupby[top_groupby['target'] == 0]['id'].values, label='0', color='#BB7CDE')\n",
    "ax.bar(np.unique(top_groupby['keyword']), top_groupby[top_groupby['target'] == 1]['id'].values,\n",
    "       label='1', color='#9CCFCA')\n",
    "ax.set_title('Распределение классов в зависимости от keyword')\n",
    "ax.set_xlabel('Keyword')\n",
    "ax.set_ylabel('Количество')\n",
    "ax.legend();"
   ]
  },
  {
   "cell_type": "markdown",
   "metadata": {},
   "source": [
    "**Вывод**: в зависимости от ключевого слова в твите значительно изменяется распределение классов, видно, что в более агрессивных и трагических словах класс 1 преобладает"
   ]
  },
  {
   "cell_type": "markdown",
   "metadata": {},
   "source": [
    "## Задание 3 (0.5 балла) \n",
    "\n",
    "В этом задании предлагается объединить все три текстовых столбца в один (просто сконкатенировать cтроки) и убрать столбец с индексом."
   ]
  },
  {
   "cell_type": "code",
   "execution_count": 12,
   "metadata": {},
   "outputs": [],
   "source": [
    "def prepare_data(data): \n",
    "    data['all_text'] = data['keyword'] + ' ' + data['location'] + ' ' + data['text']\n",
    "    data['all_text'] = data['all_text'].apply(lambda x: x.replace('  ', ' '))    \n",
    "    data.drop(['id', 'keyword', 'location', 'text'], axis=1, inplace=True) \n",
    "    return data"
   ]
  },
  {
   "cell_type": "code",
   "execution_count": 13,
   "metadata": {},
   "outputs": [],
   "source": [
    "train = prepare_data(train)\n",
    "test = prepare_data(test)"
   ]
  },
  {
   "cell_type": "markdown",
   "metadata": {},
   "source": [
    "## Задание 4 (0.5 балла)\n",
    "\n",
    "Далее мы будем пока работать только с train частью.\n",
    "\n",
    "1. Предобработайте данные (train часть) с помощью CountVectorizer.\n",
    "2. Какого размера получилась матрица?\n"
   ]
  },
  {
   "cell_type": "code",
   "execution_count": 14,
   "metadata": {},
   "outputs": [],
   "source": [
    "# Вопрос 1.\n",
    "vectorizer = CountVectorizer()\n",
    "vectorizer.fit(train['all_text'])\n",
    "train_vect = vectorizer.transform(train['all_text'])"
   ]
  },
  {
   "cell_type": "code",
   "execution_count": 15,
   "metadata": {},
   "outputs": [
    {
     "data": {
      "text/plain": [
       "(5329, 18455)"
      ]
     },
     "execution_count": 15,
     "metadata": {},
     "output_type": "execute_result"
    }
   ],
   "source": [
    "# Вопрос 2.\n",
    "train_vect.shape"
   ]
  },
  {
   "cell_type": "markdown",
   "metadata": {},
   "source": [
    "## Задание 5 (1 балл)\n",
    "\n",
    "В предыдущем пункте у вас должна была получиться достаточно большая матрица.\n",
    "Если вы взгляните на текст, то увидете, что там есть множество специальных символов, ссылок и прочего мусора.\n",
    "\n",
    "Давайте также посмотрим на словарь, который получился в результате построения CountVectorizer, его можно найти в поле vocabulary_ инстанса этого класса. Давайте напишем функцию, которая печает ответы на следующие вопросы:\n",
    "\n",
    "1. Найдите в этом словаре все слова, которые содержат цифры. Сколько таких слов нашлось?\n",
    "\n",
    "2. Найдите все слова, которые содержат символы пунктуации. Сколько таких слов нашлось? \n",
    "\n",
    "3. Сколько хэштегов (токен начинается на #) и упоминаний (токен начинается на @) осталось в словаре?"
   ]
  },
  {
   "cell_type": "code",
   "execution_count": 16,
   "metadata": {},
   "outputs": [],
   "source": [
    "def answer_func(vectorizer):\n",
    "    print(f'Вопрос 1. Количество слов, содержащих цифры - {sum(map(lambda x: x.isdigit(), vectorizer.vocabulary_))}')\n",
    "    print(f'ВОпрос 2. Количество слов, содержащих символы пунктуации - {sum(map(lambda x: not set(string.punctuation).isdisjoint(x), vectorizer.vocabulary_))}')\n",
    "    print(f'Вопрос 3. Количество слов, начинающихся с # или @ - {sum(map(lambda x: x.startswith(\"@\")|x.startswith(\"#\"), vectorizer.vocabulary_))}') \n",
    "    return"
   ]
  },
  {
   "cell_type": "code",
   "execution_count": 17,
   "metadata": {},
   "outputs": [
    {
     "name": "stdout",
     "output_type": "stream",
     "text": [
      "Вопрос 1. Количество слов, содержащих цифры - 387\n",
      "ВОпрос 2. Количество слов, содержащих символы пунктуации - 315\n",
      "Вопрос 3. Количество слов, начинающихся с # или @ - 0\n"
     ]
    }
   ],
   "source": [
    "answer_func(vectorizer)"
   ]
  },
  {
   "cell_type": "markdown",
   "metadata": {},
   "source": [
    "## Задание 6 (0.5 балла)\n",
    "\n",
    "Вспомним, что на семинаре по текстам мы узнали, что в nltk есть специальный токенизатор для текстов - TweetTokenizer. Попробуем применить CountVectorizer с этим токенизатором. Ответьте на все вопросы из предыдущего пункта для TweetTokenizer и сравните результаты."
   ]
  },
  {
   "cell_type": "code",
   "execution_count": 18,
   "metadata": {},
   "outputs": [],
   "source": [
    "tw_tokenizer = TweetTokenizer()"
   ]
  },
  {
   "cell_type": "code",
   "execution_count": 19,
   "metadata": {},
   "outputs": [],
   "source": [
    "cnt_vect_tw = CountVectorizer(tokenizer=lambda x: tw_tokenizer.tokenize(x))\n",
    "cnt_vect_tw.fit(train['all_text'])\n",
    "train_vect_tw = cnt_vect_tw.transform(train['all_text'])"
   ]
  },
  {
   "cell_type": "code",
   "execution_count": 20,
   "metadata": {},
   "outputs": [
    {
     "data": {
      "text/plain": [
       "(5329, 19670)"
      ]
     },
     "execution_count": 20,
     "metadata": {},
     "output_type": "execute_result"
    }
   ],
   "source": [
    "train_vect_tw.shape"
   ]
  },
  {
   "cell_type": "code",
   "execution_count": 21,
   "metadata": {},
   "outputs": [
    {
     "name": "stdout",
     "output_type": "stream",
     "text": [
      "Вопрос 1. Количество слов, содержащих цифры - 303\n",
      "ВОпрос 2. Количество слов, содержащих символы пунктуации - 7338\n",
      "Вопрос 3. Количество слов, начинающихся с # или @ - 3149\n"
     ]
    }
   ],
   "source": [
    "answer_func(cnt_vect_tw)"
   ]
  },
  {
   "cell_type": "markdown",
   "metadata": {},
   "source": [
    "## Задание 7 (2 балла)\n",
    "\n",
    "В scikit-learn мы можем оценивать процесс подсчета матрицы через CountVectorizer. У CountVectorizer, как и у других наследников \\_VectorizerMixin, есть аргумент tokenizer и preprocessor. preprocessor применится в самом начале к каждой строке вашего датасета, tokenizer же должен принять строку и вернуть токены.\n",
    "Давайте напишем кастомный токенайзер, которые сделает все, что нам нужно: \n",
    "\n",
    "0. Приведет все буквы к нижнему регистру\n",
    "1. Разобьет текст на токены с помощью TweetTokenizer из пакета nltk\n",
    "2. Удалит все токены содержащие не латинские буквы, кроме смайликов (будем считать ими токены содержащие только пунктуацию и, как минимум, одну скобочку) и хэштегов, которые после начальной # содержат только латинские буквы.\n",
    "3. Удалит все токены, которые перечислены в nltk.corpus.stopwords.words('english')\n",
    "4. Проведет стемминг с помощью SnowballStemmer\n",
    "\n",
    "Продемонстрируйте работу вашей функции на первых десяти текстах в обучающей выборке."
   ]
  },
  {
   "cell_type": "code",
   "execution_count": 22,
   "metadata": {},
   "outputs": [],
   "source": [
    "# стемминг\n",
    "snowball = SnowballStemmer('english')"
   ]
  },
  {
   "cell_type": "code",
   "execution_count": 23,
   "metadata": {},
   "outputs": [],
   "source": [
    "def tw_tokenizer_stem(string):\n",
    "    # изменяем регистр\n",
    "    string = string.lower()\n",
    "    # применяем TweetTokenizer\n",
    "    tokens = tw_tokenizer.tokenize(string)\n",
    "    # удаляем ненужные слова + применяем SnowballStemmer\n",
    "    stem_tokens = [snowball.stem(token) for token in tokens \n",
    "              # успел сделать только регулярку, которая оставляет исключительно латинские буквы\n",
    "              if token == re.sub(\"[^a-z]\", \"\", token) and token not in stopwords.words('english')]\n",
    "    \n",
    "    \n",
    "    return stem_tokens"
   ]
  },
  {
   "cell_type": "code",
   "execution_count": 24,
   "metadata": {},
   "outputs": [
    {
     "data": {
      "text/plain": [
       "1186    [bridg, ash, australia, collaps, trent, bridg,...\n",
       "4071    [hail, carol, stream, illinoi, great, michigan...\n",
       "5461    [polic, houston, cnn, tennesse, movi, theater,...\n",
       "5787        [riot, still, riot, coupl, hour, left, class]\n",
       "7445    [wound, lake, highland, crack, path, wipe, mor...\n",
       "151     [airplan, somewher, expert, franc, begin, exam...\n",
       "915     [bloodi, isol, citi, world, perth, came, kill,...\n",
       "1305                    [burn, except, idk, realli, burn]\n",
       "2570                        [destroy, ask, destroy, hous]\n",
       "7399    [wound, maracay, nirgua, venezuela, polic, off...\n",
       "Name: all_text, dtype: object"
      ]
     },
     "execution_count": 24,
     "metadata": {},
     "output_type": "execute_result"
    }
   ],
   "source": [
    "train['all_text'][:10].apply(tw_tokenizer_stem)"
   ]
  },
  {
   "cell_type": "markdown",
   "metadata": {},
   "source": [
    "## Задание 8 (1 балл)\n",
    "\n",
    "1. Примените CountVectorizer с реализованным выше токенизатором к обучающим и тестовым выборкам.\n",
    "2. Обучите LogisticRegression на полученных признаках.\n",
    "3. Посчитайте метрику f1-score на тестовых данных."
   ]
  },
  {
   "cell_type": "code",
   "execution_count": 25,
   "metadata": {},
   "outputs": [],
   "source": [
    "def logreg(train_vect, test_vect):\n",
    "    logreg = LogisticRegression()\n",
    "    logreg.fit(train_vect, train[\"target\"])\n",
    "    y_pred = logreg.predict(test_vect)\n",
    "    return f'f1 score: {f1_score(test[\"target\"], y_pred)}'"
   ]
  },
  {
   "cell_type": "code",
   "execution_count": 26,
   "metadata": {},
   "outputs": [],
   "source": [
    "cnt_vect_stem = CountVectorizer(tokenizer=tw_tokenizer_stem)\n",
    "train_cnt_vect = cnt_vect_stem.fit_transform(train['all_text'])\n",
    "test_cnt_vect = cnt_vect_stem.transform(test['all_text'])"
   ]
  },
  {
   "cell_type": "code",
   "execution_count": 27,
   "metadata": {},
   "outputs": [
    {
     "data": {
      "text/plain": [
       "'f1 score: 0.7482555018786903'"
      ]
     },
     "execution_count": 27,
     "metadata": {},
     "output_type": "execute_result"
    }
   ],
   "source": [
    "logreg(train_cnt_vect, test_cnt_vect)"
   ]
  },
  {
   "cell_type": "markdown",
   "metadata": {},
   "source": [
    "## Задание 9 (1 балл)\n",
    "\n",
    "1. Повторите 7 задание, но с tf-idf векторизатором. Как изменилось качество?\n",
    "2. Мы можем еще сильнее уменьшить размер нашей матрицы, если отбросим значения df близкие к единице. Скорее всего такие слова не несут много информации о категории, так как встречаются достаточно часто. Ограничьте максимальный df в параметрах TfIdfVectorizer, поставьте верхнюю границу равную 0.9. Как изменился размер матрицы, как изменилось качество?\n",
    "3. Также мы можем уменьшить размер матрицы, удаляя слова со слишком маленьким df. Удалось ли добиться улучшения качества? "
   ]
  },
  {
   "cell_type": "markdown",
   "metadata": {},
   "source": [
    "#### 1. Baseline TfidfVectorizer"
   ]
  },
  {
   "cell_type": "code",
   "execution_count": 28,
   "metadata": {},
   "outputs": [],
   "source": [
    "tfidf = TfidfVectorizer(tokenizer=tw_tokenizer_stem)\n",
    "train_tfidf_vect = tfidf.fit_transform(train['all_text'])\n",
    "test_tfidf_vect = tfidf.transform(test['all_text'])"
   ]
  },
  {
   "cell_type": "code",
   "execution_count": 29,
   "metadata": {},
   "outputs": [
    {
     "data": {
      "text/plain": [
       "'f1 score: 0.7433333333333335'"
      ]
     },
     "execution_count": 29,
     "metadata": {},
     "output_type": "execute_result"
    }
   ],
   "source": [
    "logreg(train_tfidf_vect, test_tfidf_vect)"
   ]
  },
  {
   "cell_type": "code",
   "execution_count": 30,
   "metadata": {},
   "outputs": [
    {
     "data": {
      "text/plain": [
       "9148"
      ]
     },
     "execution_count": 30,
     "metadata": {},
     "output_type": "execute_result"
    }
   ],
   "source": [
    "# Размер словаря\n",
    "len(tfidf.vocabulary_)"
   ]
  },
  {
   "cell_type": "markdown",
   "metadata": {},
   "source": [
    "#### 2. TfidfVectorizer with max_df=0.9"
   ]
  },
  {
   "cell_type": "code",
   "execution_count": 31,
   "metadata": {},
   "outputs": [],
   "source": [
    "tfidf_cut = TfidfVectorizer(tokenizer=tw_tokenizer_stem, max_df=0.9)\n",
    "train_tfidf_cut_vect = tfidf_cut.fit_transform(train['all_text'])\n",
    "test_tfidf_cut_vect = tfidf_cut.transform(test['all_text'])"
   ]
  },
  {
   "cell_type": "code",
   "execution_count": 32,
   "metadata": {},
   "outputs": [
    {
     "data": {
      "text/plain": [
       "'f1 score: 0.7433333333333335'"
      ]
     },
     "execution_count": 32,
     "metadata": {},
     "output_type": "execute_result"
    }
   ],
   "source": [
    "logreg(train_tfidf_cut_vect, test_tfidf_cut_vect) # качество не изменилось"
   ]
  },
  {
   "cell_type": "code",
   "execution_count": 33,
   "metadata": {},
   "outputs": [
    {
     "data": {
      "text/plain": [
       "9148"
      ]
     },
     "execution_count": 33,
     "metadata": {},
     "output_type": "execute_result"
    }
   ],
   "source": [
    "# Размер словаря не изменился\n",
    "len(tfidf_cut.vocabulary_)"
   ]
  },
  {
   "cell_type": "markdown",
   "metadata": {},
   "source": [
    "#### 3. TfidfVectorizer with max_df=0.9 and min_df=10"
   ]
  },
  {
   "cell_type": "code",
   "execution_count": 34,
   "metadata": {},
   "outputs": [],
   "source": [
    "tfidf_cut2 = TfidfVectorizer(tokenizer=tw_tokenizer_stem, max_df=0.9, min_df=10)\n",
    "train_tfidf_cut2_vect = tfidf_cut2.fit_transform(train['all_text'])\n",
    "test_tfidf_cut2_vect = tfidf_cut2.transform(test['all_text'])"
   ]
  },
  {
   "cell_type": "code",
   "execution_count": 35,
   "metadata": {},
   "outputs": [
    {
     "data": {
      "text/plain": [
       "'f1 score: 0.7325013564839935'"
      ]
     },
     "execution_count": 35,
     "metadata": {},
     "output_type": "execute_result"
    }
   ],
   "source": [
    "logreg(train_tfidf_cut2_vect, test_tfidf_cut2_vect) # при увеличении min_df качество уменьшается"
   ]
  },
  {
   "cell_type": "code",
   "execution_count": 36,
   "metadata": {},
   "outputs": [
    {
     "data": {
      "text/plain": [
       "1098"
      ]
     },
     "execution_count": 36,
     "metadata": {},
     "output_type": "execute_result"
    }
   ],
   "source": [
    "# Размер словаря уменьшился из-за отсечения редких токенов\n",
    "len(tfidf_cut2.vocabulary_)"
   ]
  },
  {
   "cell_type": "markdown",
   "metadata": {},
   "source": [
    "**Вывод:** Качество увеличить не удалось"
   ]
  },
  {
   "cell_type": "markdown",
   "metadata": {},
   "source": [
    "## Задание 10 (1 балл)\n",
    "\n",
    "Еще один популяпный трюк, который позволит уменьшить количество признаков называется hashing trick. Его суть в том, то мы случайно группируем признаки ииии  ..... складываем их! А потом удаляем исходные признаки. В итоге все наши признаки это просто суммы исходных. Звучит странно, но это отлично работает. Давайте проверим этот трюк в нашем сеттинге.\n",
    "Также при таком подходе вам не нужно хранить словарь token->index, что тоже иногда полезно.\n",
    "\n",
    "1. Повторите задание 7 с HashingVectorizer, укажите количество фичей равное 5000.\n",
    "2. Какой из подходов показал самый высокий результат?"
   ]
  },
  {
   "cell_type": "code",
   "execution_count": 37,
   "metadata": {},
   "outputs": [],
   "source": [
    "hashing = HashingVectorizer(tokenizer=tw_tokenizer_stem, n_features=5000)\n",
    "hashing.fit(train['all_text'])\n",
    "train_hashing_vect = hashing.transform(train['all_text'])\n",
    "test_hashing_vect = hashing.transform(test['all_text'])"
   ]
  },
  {
   "cell_type": "code",
   "execution_count": 38,
   "metadata": {},
   "outputs": [
    {
     "data": {
      "text/plain": [
       "'f1 score: 0.7154017857142856'"
      ]
     },
     "execution_count": 38,
     "metadata": {},
     "output_type": "execute_result"
    }
   ],
   "source": [
    "logreg(train_hashing_vect, test_hashing_vect)"
   ]
  },
  {
   "cell_type": "markdown",
   "metadata": {},
   "source": [
    "###  Вывод:"
   ]
  },
  {
   "cell_type": "markdown",
   "metadata": {},
   "source": [
    "Самый лучший результат показал **Countvectorizer** с кастомным токенизатором - **f1_score = 0.7483**"
   ]
  },
  {
   "cell_type": "markdown",
   "metadata": {},
   "source": [
    "## Задание 11 (1 балл)\n",
    "\n",
    "В этом задании нужно добиться f1 меры хотя в 0.75 на тестовых данных."
   ]
  },
  {
   "cell_type": "code",
   "execution_count": 39,
   "metadata": {},
   "outputs": [],
   "source": [
    "def models_zoo(train_vect, test_vect):\n",
    "    \n",
    "    models_results = {}\n",
    "    \n",
    "    logreg = LogisticRegression()\n",
    "    logreg.fit(train_vect, train['target'])\n",
    "    y_pred_logreg = logreg.predict(test_vect)\n",
    "    models_results['logreg'] = f1_score(test[\"target\"], y_pred_logreg)\n",
    "    \n",
    "    sgd = SGDClassifier()\n",
    "    sgd.fit(train_vect, train['target'])\n",
    "    y_pred_sgd = sgd.predict(test_vect)\n",
    "    models_results['sgd'] = f1_score(test[\"target\"], y_pred_sgd)\n",
    "    \n",
    "    rf = RandomForestClassifier()\n",
    "    rf.fit(train_vect, train['target'])\n",
    "    y_pred_rf = rf.predict(test_vect)\n",
    "    models_results['rf'] = f1_score(test[\"target\"], y_pred_rf)\n",
    "    \n",
    "    gb = GradientBoostingClassifier()\n",
    "    gb.fit(train_vect, train['target'])\n",
    "    y_pred_gb = gb.predict(test_vect)\n",
    "    models_results['gb'] = f1_score(test[\"target\"], y_pred_gb)\n",
    "    \n",
    "    svm_m = svm.SVC()\n",
    "    svm_m.fit(train_vect, train['target'])\n",
    "    y_pred_svm = svm_m.predict(test_vect)\n",
    "    models_results['svm'] = f1_score(test[\"target\"], y_pred_svm)\n",
    "    \n",
    "    return sorted(models_results.items(), key=lambda x: x[1], reverse=True)"
   ]
  },
  {
   "cell_type": "code",
   "execution_count": 40,
   "metadata": {},
   "outputs": [],
   "source": [
    "results = models_zoo(train_cnt_vect, test_cnt_vect)"
   ]
  },
  {
   "cell_type": "code",
   "execution_count": 41,
   "metadata": {},
   "outputs": [
    {
     "data": {
      "text/plain": [
       "[('logreg', 0.7482555018786903),\n",
       " ('svm', 0.7422096317280453),\n",
       " ('rf', 0.7195530726256982),\n",
       " ('sgd', 0.7116692830978545),\n",
       " ('gb', 0.6282383419689118)]"
      ]
     },
     "execution_count": 41,
     "metadata": {},
     "output_type": "execute_result"
    }
   ],
   "source": [
    "results"
   ]
  },
  {
   "cell_type": "code",
   "execution_count": 42,
   "metadata": {},
   "outputs": [],
   "source": [
    "def best_params_log(X, y, scoring, solver=['lbfgs']):\n",
    "    parameters = {\n",
    "                'penalty' : ['l1','l2'], \n",
    "                'class_weight' : ['balanced', None], \n",
    "                'C' : [0.01, 0.1, 0.5, 1, 5, 10],\n",
    "                'solver': solver\n",
    "                }\n",
    "    log_cv = GridSearchCV(LogisticRegression(), parameters, cv=5, scoring=scoring)\n",
    "    log_cv.fit(X, y)\n",
    "\n",
    "    best_parameters = log_cv.best_params_\n",
    "    print('The best parameters for using this model is', best_parameters)"
   ]
  },
  {
   "cell_type": "code",
   "execution_count": 43,
   "metadata": {},
   "outputs": [
    {
     "name": "stdout",
     "output_type": "stream",
     "text": [
      "The best parameters for using this model is {'C': 0.1, 'class_weight': 'balanced', 'penalty': 'l2', 'solver': 'lbfgs'}\n"
     ]
    }
   ],
   "source": [
    "best_params_log(train_cnt_vect, train['target'], scoring='f1')"
   ]
  },
  {
   "cell_type": "code",
   "execution_count": 44,
   "metadata": {},
   "outputs": [
    {
     "name": "stdout",
     "output_type": "stream",
     "text": [
      "f1 score: 0.7541666666666668\n"
     ]
    }
   ],
   "source": [
    "logreg = LogisticRegression(C=0.1, class_weight='balanced', )\n",
    "logreg.fit(train_cnt_vect, train['target'])\n",
    "y_pred_logreg = logreg.predict(test_cnt_vect)\n",
    "print(f'f1 score: {f1_score(test[\"target\"], y_pred_logreg)}')"
   ]
  },
  {
   "cell_type": "markdown",
   "metadata": {},
   "source": [
    "### Вывод:"
   ]
  },
  {
   "cell_type": "markdown",
   "metadata": {},
   "source": [
    "Удалось достичь качества больше 0.75 на LogisticRegression при прогонке GridSearchCV и подборке лучших параметров"
   ]
  }
 ],
 "metadata": {
  "kernelspec": {
   "display_name": "Python 3 (ipykernel)",
   "language": "python",
   "name": "python3"
  },
  "language_info": {
   "codemirror_mode": {
    "name": "ipython",
    "version": 3
   },
   "file_extension": ".py",
   "mimetype": "text/x-python",
   "name": "python",
   "nbconvert_exporter": "python",
   "pygments_lexer": "ipython3",
   "version": "3.8.12"
  }
 },
 "nbformat": 4,
 "nbformat_minor": 2
}
